{
  "cells": [
    {
      "cell_type": "markdown",
      "metadata": {
        "id": "XqU7yZFuPb2O"
      },
      "source": [
        "# Classes e Objetos em Python: Modificadores de acesso e métodos de classe."
      ]
    },
    {
      "cell_type": "markdown",
      "metadata": {
        "id": "Q-3ADJLTPj-C"
      },
      "source": [
        "#### Exemplo de classe contêiner\n"
      ]
    },
    {
      "cell_type": "code",
      "execution_count": 1,
      "metadata": {
        "colab": {
          "base_uri": "https://localhost:8080/"
        },
        "id": "Xw5n7OJ0PYql",
        "outputId": "1629181f-3fe5-4eff-8af9-0ca83570d3f0"
      },
      "outputs": [
        {
          "name": "stdout",
          "output_type": "stream",
          "text": [
            "Itens no carrinho:\n",
            "Camiseta\n",
            "Calça\n",
            "Sapatos\n",
            "\n",
            "Itens no carrinho após remoção:\n",
            "Calça\n",
            "Sapatos\n"
          ]
        }
      ],
      "source": [
        "class ShoppingCart:\n",
        "    def __init__(self):\n",
        "        self.items = []  # Usaremos uma lista para armazenar os itens do carrinho\n",
        "\n",
        "    def add_item(self, item):\n",
        "        self.items.append(item)\n",
        "\n",
        "    def remove_item(self, item):\n",
        "        self.items.remove(item)\n",
        "\n",
        "    def show_items(self):\n",
        "        for item in self.items:\n",
        "            print(item)\n",
        "\n",
        "# Criando uma instância da classe\n",
        "cart = ShoppingCart()\n",
        "# Adicionando itens ao carrinho\n",
        "cart.add_item(\"Camiseta\")\n",
        "cart.add_item(\"Calça\")\n",
        "cart.add_item(\"Sapatos\")\n",
        "# Exibindo os itens no carrinho\n",
        "print(\"Itens no carrinho:\")\n",
        "cart.show_items()\n",
        "# Removendo um item\n",
        "cart.remove_item(\"Camiseta\")\n",
        "# Exibindo os itens atualizados no carrinho\n",
        "print(\"\\nItens no carrinho após remoção:\")\n",
        "cart.show_items()\n",
        "\n"
      ]
    },
    {
      "cell_type": "markdown",
      "metadata": {
        "id": "DSoUP3apP8Rh"
      },
      "source": [
        "#### Exercício\n"
      ]
    },
    {
      "cell_type": "markdown",
      "metadata": {
        "id": "0fj7IBbrQCnx"
      },
      "source": [
        "Você foi contratado para criar um sistema de gerenciamento de alunos em uma escola. Sua tarefa é criar uma classe chamada `Turma` que funcionará como um contêiner para armazenar informações sobre os alunos de uma turma. A classe Turma deve incluir um construtor para inicializar os atributos e um destrutor para imprimir uma mensagem quando a instância for destruída. Além disso, você deve implementar métodos para adicionar e remover alunos da turma, bem como para listar os alunos matriculados.\n",
        "\n",
        "Requisitos:\n",
        "\n",
        "- A classe `Turma` deve conter um atributo alunos, que será uma lista para armazenar os nomes dos alunos.\n",
        "- O construtor `__init__` deve aceitar o nome da turma como parâmetro e inicializar a lista de alunos.\n",
        "- A classe deve ter um método `adicionar_aluno` que permita adicionar um aluno à turma.\n",
        "- A classe deve ter um método `remover_aluno` que permita remover um aluno da turma.\n",
        "- A classe deve ter um método `listar_alunos` que exiba os nomes dos alunos matriculados.\n",
        "- O destrutor `__del__` deve imprimir uma mensagem informando que a instância da turma está sendo destruída.\n"
      ]
    },
    {
      "cell_type": "code",
      "execution_count": 24,
      "metadata": {
        "id": "qGCHVTLAPyBP"
      },
      "outputs": [
        {
          "name": "stdout",
          "output_type": "stream",
          "text": [
            "Aluno João da turma 1 adicionado com sucesso!!!\n",
            "Aluno José da turma 3 adicionado com sucesso!!!\n",
            "Aluno Jeferson da turma 1 adicionado com sucesso!!!\n",
            "Aluno Kleber da turma 4 adicionado com sucesso!!!\n",
            "Aluno João da turma 1 removido com sucesso!!!\n",
            "\n",
            "1 - José\n",
            "\n",
            "2 - Jeferson\n",
            "\n",
            "3 - Kleber\n"
          ]
        }
      ],
      "source": [
        "class Turma():\n",
        "    def __init__(self):\n",
        "        self.alunos = []\n",
        "        self.turmas = []\n",
        "        self.contagem = 0\n",
        "    \n",
        "    def adicionarAlunos(self, turma, aluno):\n",
        "        self.turmas.append(turma)\n",
        "        self.alunos.append(aluno)\n",
        "        print(f\"Aluno {aluno} da turma {turma} adicionado com sucesso!!!\")\n",
        "\n",
        "    def removerAlunos(self, turma,aluno):\n",
        "        self.alunos.remove(aluno)\n",
        "        print(f\"Aluno {aluno} da turma {turma} removido com sucesso!!!\")\n",
        "\n",
        "    def listar_alunos(self):\n",
        "        for aluno in self.alunos:\n",
        "            self.contagem += 1\n",
        "            print(f\"\\n{self.contagem} - {aluno}\")\n",
        "            \n",
        "    def __del__ (self):\n",
        "        return (\"Aluno excluido\")\n",
        "\n",
        "cadastro = Turma()\n",
        "cadastro.adicionarAlunos(1,\"João\")\n",
        "cadastro.adicionarAlunos(3,\"José\")\n",
        "cadastro.adicionarAlunos(1,\"Jeferson\")\n",
        "cadastro.adicionarAlunos(4,\"Kleber\")\n",
        "cadastro.removerAlunos(1,\"João\")\n",
        "cadastro.listar_alunos()\n"
      ]
    },
    {
      "cell_type": "markdown",
      "metadata": {
        "id": "_aGZz9DjQxaJ"
      },
      "source": [
        "#### Exercício\n"
      ]
    },
    {
      "cell_type": "markdown",
      "metadata": {
        "id": "TLpat2_PQ0AC"
      },
      "source": [
        "Crie uma classe chamada `ContaBancaria` que encapsule informações sobre uma conta bancária. A classe deve ter os seguintes métodos públicos:\n",
        "- `__init__(self, titular, saldo_inicial):` Um construtor que recebe o nome do titular da conta e o saldo inicial e inicializa atributos privados `_titular` e `_saldo`.\n",
        "- `depositar(self, valor):` Um método que permite ao titular da conta depositar dinheiro na conta. Este método deve atualizar o saldo da conta.\n",
        "- `sacar(self, valor):` Um método que permite ao titular da conta sacar dinheiro da conta, desde que haja saldo suficiente. Este método deve atualizar o saldo da conta.\n",
        "- `saldo(self):` Um método que retorna o saldo atual da conta.\n",
        "- Certifique-se de que _saldo seja privado e que não possa ser acessado diretamente de fora da classe. Use métodos públicos para interagir com o saldo.\n"
      ]
    },
    {
      "cell_type": "code",
      "execution_count": 43,
      "metadata": {
        "id": "5Vp1NgxIRV69"
      },
      "outputs": [
        {
          "name": "stdout",
          "output_type": "stream",
          "text": [
            "Deposito feito com sucesso!!! Você depositou 100\n",
            "Você sacou 300. Saque feito com sucesso!!!\n",
            "Seu saldo é: 800\n"
          ]
        }
      ],
      "source": [
        "# Crie sua classe aqui\n",
        "\n",
        "class ContaBancaria():\n",
        "    def __init__ (self, nome, saldo):\n",
        "        self._titular = nome \n",
        "        self._saldo_inicial = saldo\n",
        "    def depositar(self,valor):\n",
        "        if valor <= 0:\n",
        "            print(\"Você está depositando um valor inválido.\")\n",
        "        else:\n",
        "            self._saldo_inicial += valor\n",
        "            print(f\"Deposito feito com sucesso!!! Você depositou {valor}\")\n",
        "    def sacar(self, valor):\n",
        "        if self._saldo_inicial <= 0:\n",
        "            print(f\"Saldo insuficiente para o saque\")\n",
        "        elif self._saldo_inicial < valor:\n",
        "            print(f\"Saldo insuficiente para o saque\")\n",
        "        else: \n",
        "            self._saldo_inicial -= valor\n",
        "            print(f\"Você sacou {valor}. Saque feito com sucesso!!!\")\n",
        "    def saldo(self):\n",
        "        print(f\"Seu saldo de {self._titular} é: {self._saldo_inicial}\")\n",
        "    \n",
        "banco = ContaBancaria(\"José\", 1000)\n",
        "banco.depositar(100)\n",
        "banco.sacar(300)\n",
        "banco.saldo()"
      ]
    },
    {
      "cell_type": "code",
      "execution_count": 51,
      "metadata": {
        "id": "hOl1D8-hRW1R"
      },
      "outputs": [
        {
          "name": "stdout",
          "output_type": "stream",
          "text": [
            "Deposito feito com sucesso!!! Você depositou 500\n",
            "Você sacou 500. Saque feito com sucesso!!!\n",
            "Saldo atual da conta de Alice: R$1000\n"
          ]
        }
      ],
      "source": [
        "# Criando uma instância da classe ContaBancaria\n",
        "conta = ContaBancaria(\"Alice\", 1000)\n",
        "\n",
        "# Depositando dinheiro na conta\n",
        "conta.depositar(500)\n",
        "\n",
        "# Sacando dinheiro da conta\n",
        "conta.sacar(500)\n",
        "\n",
        "# Verificando o saldo da conta\n",
        "print(f\"Saldo atual da conta de {conta._titular}: R${conta._saldo_inicial}\")\n"
      ]
    },
    {
      "cell_type": "markdown",
      "metadata": {
        "id": "WvfqerpsRi6-"
      },
      "source": [
        "#### Exercício\n"
      ]
    },
    {
      "cell_type": "markdown",
      "metadata": {
        "id": "Ba_RVM_yRmLU"
      },
      "source": [
        "Complete o programa a seguir"
      ]
    },
    {
      "cell_type": "code",
      "execution_count": 79,
      "metadata": {
        "id": "VIzxj72GRpDc"
      },
      "outputs": [],
      "source": [
        "class Estudante:\n",
        "    def __init__(self, nome, matricula):\n",
        "        self.__nome = nome\n",
        "        self.__matricula = matricula\n",
        "        self.__notas = []  # Lista para armazenar notas\n",
        "\n",
        "    # TODO: Definir um método público para adicionar notas\n",
        "    # O método deve receber uma lista de notas e adicioná-las à lista de notas do estudante\n",
        "    def adicionar_notas(self, notas):\n",
        "        self.__notas.extend(notas)\n",
        "\n",
        "    # TODO: Definir um método público para calcular a média das notas\n",
        "    # O método deve calcular a média das notas e retornar o resultado\n",
        "    def calcular_media(self):\n",
        "        Soma =  sum(self.__notas) \n",
        "        Media = Soma / (len(self.__notas))\n",
        "        return Media\n",
        "    # TODO: Definir um método público para exibir o nome e a matrícula do estudante\n",
        "\n",
        "    def exibir_informacoes(self):\n",
        "        print(f\"{self.__nome}, {self.__matricula}\")\n",
        "\n"
      ]
    },
    {
      "cell_type": "code",
      "execution_count": 80,
      "metadata": {
        "id": "Was8tHtYRpKN"
      },
      "outputs": [
        {
          "name": "stdout",
          "output_type": "stream",
          "text": [
            "Alice, 12345\n",
            "Média: 8.23\n"
          ]
        }
      ],
      "source": [
        "# Código de teste\n",
        "estudante1 = Estudante(\"Alice\", \"12345\")\n",
        "estudante1.adicionar_notas([8.5, 9.0, 7.2])\n",
        "media = estudante1.calcular_media()\n",
        "estudante1.exibir_informacoes()\n",
        "print(f\"Média: {media:.2f}\")\n"
      ]
    },
    {
      "cell_type": "markdown",
      "metadata": {
        "id": "XeVUhe52R2FT"
      },
      "source": [
        "Complete o programa a seguir"
      ]
    },
    {
      "cell_type": "code",
      "execution_count": 106,
      "metadata": {
        "id": "bCb7AGc8R2sG"
      },
      "outputs": [],
      "source": [
        "class ContaBancaria:\n",
        "    def __init__(self, titular, saldo_inicial):\n",
        "        self.__titular = titular\n",
        "        self.__saldo = saldo_inicial\n",
        "\n",
        "    # TODO: Definir um método Get para o atributo 'titular'\n",
        "    def get_titular(self):\n",
        "        return self.__titular\n",
        "\n",
        "    # TODO: Definir um método Set para o atributo 'saldo'\n",
        "    # O método deve validar se o novo saldo é maior ou igual a zero antes de atribuir\n",
        "    def set_saldo(self, novoSaldo):\n",
        "        if novoSaldo > 0:\n",
        "            self.__saldo += novoSaldo\n",
        "            return self.__saldo \n",
        "        else: \n",
        "            print(\"Valor inválido\")\n",
        "    # TODO: Definir um método Get para o atributo 'saldo'\n",
        "\n",
        "    def get_saldo(self):\n",
        "        return self.__saldo\n"
      ]
    },
    {
      "cell_type": "code",
      "execution_count": 107,
      "metadata": {
        "id": "opJWUcv8R20c"
      },
      "outputs": [
        {
          "name": "stdout",
          "output_type": "stream",
          "text": [
            "Titular da conta: Alice\n",
            "Saldo inicial: 1000\n",
            "Novo saldo: 2500\n",
            "Valor inválido\n",
            "Saldo após tentativa inválida: 2500\n"
          ]
        }
      ],
      "source": [
        "# Código de teste\n",
        "conta = ContaBancaria(\"Alice\", 1000)\n",
        "print(f\"Titular da conta: {conta.get_titular()}\")\n",
        "print(f\"Saldo inicial: {conta.get_saldo()}\")\n",
        "\n",
        "conta.set_saldo(1500)\n",
        "print(f\"Novo saldo: {conta.get_saldo()}\")\n",
        "\n",
        "conta.set_saldo(-500)  # Isso não deve alterar o saldo\n",
        "print(f\"Saldo após tentativa inválida: {conta.get_saldo()}\")\n"
      ]
    },
    {
      "cell_type": "markdown",
      "metadata": {
        "id": "iB2dQevMSMyc"
      },
      "source": [
        "#### Métodos de Classe\n"
      ]
    },
    {
      "cell_type": "markdown",
      "metadata": {
        "id": "hz2IPGOTSR4w"
      },
      "source": [
        "Exemplo"
      ]
    },
    {
      "cell_type": "code",
      "execution_count": null,
      "metadata": {
        "colab": {
          "base_uri": "https://localhost:8080/"
        },
        "id": "9nGbxaWvSSom",
        "outputId": "677f2bcf-73bf-4361-958a-ba7c7bd6c923"
      },
      "outputs": [
        {
          "name": "stdout",
          "output_type": "stream",
          "text": [
            "Existem atualmente 3 animais.\n"
          ]
        }
      ],
      "source": [
        "class Animal:\n",
        "    contador = 0  # Atributo de classe para rastrear o número de instâncias\n",
        "\n",
        "    def __init__(self, nome):\n",
        "        self.nome = nome\n",
        "        Animal.contador += 1  # Incrementa o contador de instâncias\n",
        "\n",
        "    @classmethod\n",
        "    def quantidade_de_animais(cls):\n",
        "        return cls.contador\n",
        "\n",
        "#Criando instâncias da classe Animal\n",
        "animal1 = Animal(\"Cachorro\")\n",
        "animal2 = Animal(\"Gato\")\n",
        "animal3 = Animal(\"Pássaro\")\n",
        "\n",
        "# Obtendo a quantidade atual de instâncias da classe Animal\n",
        "quantidade = Animal.quantidade_de_animais()\n",
        "\n",
        "# Imprimindo a quantidade de animais\n",
        "print(f\"Existem atualmente {quantidade} animais.\")\n",
        "\n"
      ]
    },
    {
      "cell_type": "markdown",
      "metadata": {
        "id": "T3xP6q2nSgOO"
      },
      "source": [
        "Exercício"
      ]
    },
    {
      "cell_type": "markdown",
      "metadata": {
        "id": "itnkdFf_Sj0c"
      },
      "source": [
        "Crie uma classe chamada `Pessoa` que tenha os seguintes atributos:\n",
        "\n",
        "- `nome` (uma string que representa o nome da pessoa)\n",
        "- `ano_nascimento` (um número inteiro que representa o ano de nascimento da pessoa)\n",
        "- A classe `Pessoa` deve ter um método de classe chamado `calcular_idade` que aceita o ano atual como argumento e calcula a idade da pessoa com base no ano de nascimento. Em seguida, o método deve retornar a idade.\n"
      ]
    },
    {
      "cell_type": "code",
      "execution_count": 11,
      "metadata": {
        "id": "SuVD35GSSXgo"
      },
      "outputs": [],
      "source": [
        "# Implemente a classe aqui\n",
        "\n",
        "#class Pessoa():\n",
        "#    def __init__(self, nomePessoa, anoNascimento):\n",
        "#        self.nome = nomePessoa\n",
        "#        self.ano_nascimento = anoNascimento\n",
        "\n",
        "#    def calcular_idade(self, ano_atual):\n",
        "#        anos = ano_atual - self.ano_nascimento\n",
        "#        return anos\n",
        "    \n",
        "\n",
        "\n",
        "class Pessoa():\n",
        "    ano_atual = 0\n",
        "\n",
        "    def __init__(self, nomePessoa, anoNascimento):\n",
        "        self.nome = nomePessoa\n",
        "        self.ano_nascimento = anoNascimento\n",
        "\n",
        "    @classmethod\n",
        "    def set_ano(cls, ano_atual):\n",
        "        cls.ano_atual = ano_atual\n",
        "    \n",
        "    @classmethod\n",
        "    def calcular_idade(cls, pessoa):\n",
        "        if(cls.ano_atual == 0):\n",
        "            print(\"Defina o ano atual\")\n",
        "        else:\n",
        "            idade = cls.ano_atual - pessoa.ano_nascimento\n",
        "            return idade\n"
      ]
    },
    {
      "cell_type": "code",
      "execution_count": 15,
      "metadata": {
        "id": "ZJcmNlrTSyI2"
      },
      "outputs": [
        {
          "name": "stdout",
          "output_type": "stream",
          "text": [
            "Alice tem 34 anos.\n",
            "Bob tem 39 anos.\n"
          ]
        }
      ],
      "source": [
        "# Criando instâncias da classe Pessoa\n",
        "pessoa1 = Pessoa(\"Alice\", 1990)\n",
        "pessoa2 = Pessoa(\"Bob\", 1985)\n",
        "Pessoa.set_ano(2024)\n",
        "# Calculando a idade das pessoas com base no ano atual (2023)\n",
        "ano_atual = 2024\n",
        "idade1 = Pessoa.calcular_idade(pessoa1)\n",
        "idade2 = Pessoa.calcular_idade(pessoa2)\n",
        "\n",
        "# Imprimindo a idade das pessoas\n",
        "print(f\"{pessoa1.nome} tem {idade1} anos.\")\n",
        "print(f\"{pessoa2.nome} tem {idade2} anos.\")\n"
      ]
    },
    {
      "cell_type": "markdown",
      "metadata": {
        "id": "lZFR8kJcS6tk"
      },
      "source": [
        "#### Métodos Estáticos\n"
      ]
    },
    {
      "cell_type": "markdown",
      "metadata": {
        "id": "ddHsGcJUTDuq"
      },
      "source": [
        "Exemplo"
      ]
    },
    {
      "cell_type": "code",
      "execution_count": 16,
      "metadata": {
        "colab": {
          "base_uri": "https://localhost:8080/"
        },
        "id": "8W4O93q1TEjQ",
        "outputId": "729d4daf-61e5-422d-8513-7438f49cb162"
      },
      "outputs": [
        {
          "name": "stdout",
          "output_type": "stream",
          "text": [
            "Soma: 8\n",
            "Subtração: 3\n"
          ]
        }
      ],
      "source": [
        "class MathUtils:\n",
        "    @staticmethod\n",
        "    def add(a, b):\n",
        "        return a + b\n",
        "\n",
        "    @staticmethod\n",
        "    def subtract(a, b):\n",
        "        return a - b\n",
        "\n",
        "# Chamando métodos estáticos diretamente na classe\n",
        "sum_result = MathUtils.add(5, 3)\n",
        "diff_result = MathUtils.subtract(10, 7)\n",
        "\n",
        "print(\"Soma:\", sum_result)      # Saída: Soma: 8\n",
        "print(\"Subtração:\", diff_result) # Saída: Subtração: 3\n",
        "\n"
      ]
    },
    {
      "cell_type": "markdown",
      "metadata": {
        "id": "KXt6TEpnTd21"
      },
      "source": [
        "Complete o programa a seguir:"
      ]
    },
    {
      "cell_type": "code",
      "execution_count": 17,
      "metadata": {
        "colab": {
          "base_uri": "https://localhost:8080/"
        },
        "id": "TPdtPnWPTH58",
        "outputId": "de1dc3b3-4b73-459f-b0cb-d046b78bda00"
      },
      "outputs": [
        {
          "name": "stdout",
          "output_type": "stream",
          "text": [
            "Área do círculo com raio 5: 78.54\n",
            "Produto de 3 e 7: 21\n"
          ]
        }
      ],
      "source": [
        "class Calculadora:\n",
        "    PI = 3.14159\n",
        "\n",
        "    @classmethod\n",
        "    def area_circulo(cls, raio):\n",
        "        # TODO: Completar o método de classe para calcular a área de um círculo\n",
        "        # A fórmula da área do círculo é: área = π * raio^2\n",
        "        return cls.PI * raio ** 2\n",
        "\n",
        "    @staticmethod\n",
        "    def multiplicacao(a, b):\n",
        "        # TODO: Completar o método estático para calcular a multiplicação de dois números\n",
        "        return a * b\n",
        "\n",
        "# Código de teste\n",
        "raio = 5\n",
        "area = Calculadora.area_circulo(raio)\n",
        "print(f\"Área do círculo com raio {raio}: {area:.2f}\")\n",
        "\n",
        "produto = Calculadora.multiplicacao(3, 7)\n",
        "print(f\"Produto de 3 e 7: {produto}\")\n",
        "\n"
      ]
    },
    {
      "cell_type": "markdown",
      "metadata": {
        "id": "IsfcrL4qTr1I"
      },
      "source": [
        "#### Slots\n"
      ]
    },
    {
      "cell_type": "code",
      "execution_count": 19,
      "metadata": {
        "colab": {
          "base_uri": "https://localhost:8080/",
          "height": 211
        },
        "id": "jTZ-eWV4Tiz8",
        "outputId": "7c49c4ed-e41e-4eb3-cd42-320fbcda4df8"
      },
      "outputs": [
        {
          "name": "stdout",
          "output_type": "stream",
          "text": [
            "Alice\n",
            "30\n"
          ]
        },
        {
          "ename": "AttributeError",
          "evalue": "'Pessoa' object has no attribute 'email'",
          "output_type": "error",
          "traceback": [
            "\u001b[0;31m---------------------------------------------------------------------------\u001b[0m",
            "\u001b[0;31mAttributeError\u001b[0m                            Traceback (most recent call last)",
            "Cell \u001b[0;32mIn[19], line 12\u001b[0m\n\u001b[1;32m      9\u001b[0m \u001b[38;5;28mprint\u001b[39m(pessoa\u001b[38;5;241m.\u001b[39mnome)   \u001b[38;5;66;03m# Saída: Alice\u001b[39;00m\n\u001b[1;32m     10\u001b[0m \u001b[38;5;28mprint\u001b[39m(pessoa\u001b[38;5;241m.\u001b[39midade)  \u001b[38;5;66;03m# Saída: 30\u001b[39;00m\n\u001b[0;32m---> 12\u001b[0m \u001b[43mpessoa\u001b[49m\u001b[38;5;241;43m.\u001b[39;49m\u001b[43memail\u001b[49m \u001b[38;5;241m=\u001b[39m \u001b[38;5;124m\"\u001b[39m\u001b[38;5;124malice@example.com\u001b[39m\u001b[38;5;124m\"\u001b[39m  \u001b[38;5;66;03m# Isso resultará em um erro, pois \"email\" não está nos slots\u001b[39;00m\n",
            "\u001b[0;31mAttributeError\u001b[0m: 'Pessoa' object has no attribute 'email'"
          ]
        }
      ],
      "source": [
        "class Pessoa:\n",
        "    __slots__ = [\"nome\", \"idade\"]\n",
        "\n",
        "    def __init__(self, nome, idade):\n",
        "        self.nome = nome\n",
        "        self.idade = idade\n",
        "\n",
        "pessoa = Pessoa(\"Alice\", 30)\n",
        "print(pessoa.nome)   # Saída: Alice\n",
        "print(pessoa.idade)  # Saída: 30\n",
        "\n",
        "pessoa.email = \"alice@example.com\"  # Isso resultará em um erro, pois \"email\" não está nos slots\n"
      ]
    },
    {
      "cell_type": "markdown",
      "metadata": {
        "id": "R1BBpgX2T-aM"
      },
      "source": [
        "Complete o programa a seguir com slots:"
      ]
    },
    {
      "cell_type": "code",
      "execution_count": 18,
      "metadata": {
        "colab": {
          "base_uri": "https://localhost:8080/"
        },
        "id": "SIWD_nOzTzD6",
        "outputId": "9b1a3b3f-8770-45e8-b772-6a28bbcac876"
      },
      "outputs": [
        {
          "name": "stdout",
          "output_type": "stream",
          "text": [
            "Nome: Alice\n",
            "Telefone: 123456789\n",
            "E-mail: alice@example.com\n"
          ]
        }
      ],
      "source": [
        "class Contato:\n",
        "    # Definir os slots para limitar os atributos que podem ser definidos na classe\n",
        "    __slots__ = [\"nome\", \"telefone\", \"email\"]\n",
        "\n",
        "\n",
        "    def __init__(self, nome, telefone, email):\n",
        "        self.nome = nome\n",
        "        self.telefone = telefone\n",
        "        self.email = email\n",
        "\n",
        "# Código de teste\n",
        "contato1 = Contato(\"Alice\", \"123456789\", \"alice@example.com\")\n",
        "print(f\"Nome: {contato1.nome}\")\n",
        "print(f\"Telefone: {contato1.telefone}\")\n",
        "print(f\"E-mail: {contato1.email}\")\n"
      ]
    }
  ],
  "metadata": {
    "colab": {
      "provenance": []
    },
    "kernelspec": {
      "display_name": "Python 3",
      "name": "python3"
    },
    "language_info": {
      "codemirror_mode": {
        "name": "ipython",
        "version": 3
      },
      "file_extension": ".py",
      "mimetype": "text/x-python",
      "name": "python",
      "nbconvert_exporter": "python",
      "pygments_lexer": "ipython3",
      "version": "3.10.12"
    }
  },
  "nbformat": 4,
  "nbformat_minor": 0
}
